{
  "nbformat": 4,
  "nbformat_minor": 0,
  "metadata": {
    "colab": {
      "provenance": [],
      "collapsed_sections": [
        "XizmlL1RK2t3",
        "uFluc5OSK0NH",
        "D1KkCxtIKxRx",
        "PHXBfyc6Ko7D",
        "Hg4FJNFbLHQO",
        "w0x3QFGzKtDD"
      ]
    },
    "kernelspec": {
      "name": "python3",
      "display_name": "Python 3"
    },
    "language_info": {
      "name": "python"
    }
  },
  "cells": [
    {
      "cell_type": "markdown",
      "source": [
        "ФИО: Селихова Таисия Артёмовна"
      ],
      "metadata": {
        "id": "phMKaFq3DN13"
      }
    },
    {
      "cell_type": "code",
      "execution_count": null,
      "metadata": {
        "id": "3CWpaI7SDK8t"
      },
      "outputs": [],
      "source": []
    },
    {
      "cell_type": "markdown",
      "source": [
        "**Во всей практике нельзя применять библиотеки предоставляющие готовые решения!**"
      ],
      "metadata": {
        "id": "jyIy3GOgFOCe"
      }
    },
    {
      "cell_type": "markdown",
      "source": [
        "# **Задача 1.**\n"
      ],
      "metadata": {
        "id": "XizmlL1RK2t3"
      }
    },
    {
      "cell_type": "markdown",
      "source": [
        "\n",
        "\n",
        "Типы данных Напишите программу на Python, которая принимает список чисел в качестве входных данных от пользователя, а затем выводит сумму, среднее значение и максимальное значение из списка.\n",
        "\n",
        "***Нельзя использовать: len(), min(), max(), average(), sum()***\n",
        "\n",
        "Ввод:\n",
        "```\n",
        "1 2 3 4 5 6 7\n",
        "```\n",
        "Вывод:\n",
        "\n",
        "```\n",
        "Сумма чисел: 28\n",
        "Среднее арифм.: 4.0\n",
        "Максимальное значение: 7\n",
        "```\n",
        "\n"
      ],
      "metadata": {
        "id": "p0v6KtHTFKSd"
      }
    },
    {
      "cell_type": "code",
      "source": [
        "print('Ввод:')\n",
        "stroka=input()\n",
        "numbers=stroka.split()\n",
        "\n",
        "#Сумма и среднее значение\n",
        "k=0\n",
        "Sum=0\n",
        "for l in numbers:\n",
        "  k+=1\n",
        "  Sum+=int(l)\n",
        "AVal=Sum/k\n",
        "\n",
        "\n",
        "#максимальное значение\n",
        "MaxN=0\n",
        "MinN=1000\n",
        "for ch1 in numbers:\n",
        "  if int(ch1)>int(MaxN):\n",
        "    MaxN=ch1\n",
        "\n",
        "print('Сумма чисел:', Sum)\n",
        "print('Среднее арифм.:', AVal)\n",
        "print('Максимальное значение:', MaxN)\n"
      ],
      "metadata": {
        "id": "0e1Virl0FpF6",
        "colab": {
          "base_uri": "https://localhost:8080/"
        },
        "outputId": "4077a4c2-ef5e-4b1d-fb72-d8c53b0cde23"
      },
      "execution_count": null,
      "outputs": [
        {
          "output_type": "stream",
          "name": "stdout",
          "text": [
            "Ввод:\n",
            "12 2 3 4\n",
            "Сумма чисел: 21\n",
            "Среднее арифм.: 5.25\n",
            "Максимальное значение: 12\n"
          ]
        }
      ]
    },
    {
      "cell_type": "markdown",
      "source": [
        "# **Задача 2.**"
      ],
      "metadata": {
        "id": "uFluc5OSK0NH"
      }
    },
    {
      "cell_type": "markdown",
      "source": [
        "\n",
        "Напишите программу на Python, которая принимает список слов в качестве входных данных от пользователя, а затем распечатывает список в обратном порядке.\n",
        "\n",
        "Ввод:\n",
        "\n",
        "```\n",
        "апельсин мандарин яблоко\n",
        "```\n",
        "\n",
        "Вывод:\n",
        "\n",
        "```\n",
        "яблоко мандарин апельсин\n",
        "```"
      ],
      "metadata": {
        "id": "6T8vg324GG4Z"
      }
    },
    {
      "cell_type": "code",
      "source": [
        "print('Ввод:')\n",
        "stroka=input()\n",
        "words=stroka.split()\n",
        "rev=''\n",
        "\n",
        "for q in range(1,len(words)+1):\n",
        "  rev= rev+words[-q]+' '\n",
        "print(rev)"
      ],
      "metadata": {
        "id": "v3AWj4ufGKox",
        "colab": {
          "base_uri": "https://localhost:8080/"
        },
        "outputId": "7537a352-ed85-4035-fe8e-e24eec699043"
      },
      "execution_count": null,
      "outputs": [
        {
          "output_type": "stream",
          "name": "stdout",
          "text": [
            "Ввод:\n",
            "мистер бист рис мистер бист ест рис\n",
            "рис ест бист мистер рис бист мистер \n"
          ]
        }
      ]
    },
    {
      "cell_type": "markdown",
      "source": [
        "# **Задача 3**"
      ],
      "metadata": {
        "id": "D1KkCxtIKxRx"
      }
    },
    {
      "cell_type": "markdown",
      "source": [
        "Простой чат-бот\n",
        "Создайте простого чат-бота, который отвечает на основные запросы пользователей. Программа должна использовать условные выражения для определения намерений пользователя и последующего соответствующего ответа.\n",
        "\n",
        "Чат бот может:\n",
        "\n",
        "- помогать складывать числа\n",
        "- подсказывать фильм, музыку и тд (из заранее созданного списка)\n",
        "- создавать список дел (а также выводить его, обновлять, очищать)\n",
        "\n",
        "Интерфейс чат-бота на ваше усмотрение, это могут быть как заранее определенные команды, так и к примеру вызов команды по номеру\n",
        "\n",
        "*Реализовать без использования функций*\n",
        "\n",
        "Пример:\n",
        "\n",
        "Ввод:\n",
        "\n",
        "```\n",
        "Олег, какую мызыку посоветуешь?\n",
        "```\n",
        "\n",
        "Вывод:\n",
        "\n",
        "```\n",
        "Я бы посоветовал вам: Led Zeppelin Stairway to Heaven\n",
        "```"
      ],
      "metadata": {
        "id": "Yq8Jgb9yHvSi"
      }
    },
    {
      "cell_type": "code",
      "source": [
        "import random\n",
        "film=['Green Book, 2018', 'Intouchables, 2011', 'The Shawshank Redemption, 1994']\n",
        "music=['Snow-Buried Tales, Yu-Peng Chen', 'Distorted memories, Øneheart', 'Просто проваливай, The Hatters']\n",
        "lisT=['do homework', 'make dinner', 'play roblox']\n",
        "\n",
        "print('Напишите цифру 1, если хотите сложить числа')\n",
        "print('Напишите цифру 2, если хотите, чтобы вам порекомендовали фильм или музыку')\n",
        "print('Напишите цифру 3, если хотите вывести список дел')\n",
        "answer=int(input())\n",
        "\n",
        "if answer==1:\n",
        "  stroka=input('Впишите числа, которые хотите сложить:')\n",
        "  numbers=stroka.split()\n",
        "  summ=0\n",
        "  for l in numbers:\n",
        "    summ+=int(l)\n",
        "  print('Сумма чисел:', summ)\n",
        "\n",
        "if answer==2:\n",
        "  print('Напишите цифру 1, если хотите, чтобы вам порекомендовали фильм')\n",
        "  print('Напишите цифру 2, если хотите, чтобы вам порекомендовали музыку')\n",
        "  otvet=int(input())\n",
        "  if otvet==1:\n",
        "    print('Я бы посоветовал вам:', random.choice(film))\n",
        "  else:\n",
        "    print('Я бы посоветовал вам:', random.choice(music))\n",
        "\n",
        "if answer==3:\n",
        "  print('Твой список дел:')\n",
        "  print(lisT)\n",
        "  print('Напишите цифру 1, если хотите добавть заметку в список')\n",
        "  print('Напишите цифру 2, если хотите удалить заметку из списка')\n",
        "  num=int(input())\n",
        "  if num==1:\n",
        "    task=input('Введите заметку: ')\n",
        "    lisT.append(task)\n",
        "    print(lisT)\n",
        "  if num==2:\n",
        "    num_task=int(input(\"Введите номер заметки, которую хотите удалить:\"))\n",
        "    lisT.pop(num_task-1)\n",
        "    print(lisT)\n",
        "\n"
      ],
      "metadata": {
        "id": "fmW-tmUtINN9",
        "colab": {
          "base_uri": "https://localhost:8080/"
        },
        "outputId": "e501de05-7fd7-4e75-f765-fa8ef09d7f34"
      },
      "execution_count": null,
      "outputs": [
        {
          "output_type": "stream",
          "name": "stdout",
          "text": [
            "Напишите цифру 1, если хотите сложить числа\n",
            "Напишите цифру 2, если хотите, чтобы вам порекомендовали фильм или музыку\n",
            "Напишите цифру 3, если хотите вывести список дел\n",
            "3\n",
            "Твой список дел:\n",
            "['do homework', 'make dinner', 'play roblox']\n",
            "Напишите цифру 1, если хотите добавть заметку в список\n",
            "Напишите цифру 2, если хотите удалить заметку из списка\n",
            "1\n",
            "Введите заметку: ааааа\n",
            "['do homework', 'make dinner', 'play roblox', 'ааааа']\n"
          ]
        }
      ]
    },
    {
      "cell_type": "markdown",
      "source": [
        "# **Задача 4.**\n"
      ],
      "metadata": {
        "id": "PHXBfyc6Ko7D"
      }
    },
    {
      "cell_type": "markdown",
      "source": [
        "Камень, ножницы, бумага\n",
        "\n",
        "Создайте игру в Камень, ножницы, бумагу, в которой пользователь может играть против компьютера. Программа должна запросить выбор пользователя, а затем сгенерировать выбор компьютера. Затем программа должна определить победителя на основе правил игры.\n",
        "\n",
        "**Этап 1:**\n",
        "\n",
        "Определение победителя\n",
        "\n",
        "**Этап 2:**\n",
        "  \n",
        "Игра до 3 побед\n",
        "\n",
        "\n",
        "Ввод для \"Этап 1\":\n",
        "\n",
        "```\n",
        "Камень\n",
        "```\n",
        "\n",
        "Вывод:\n",
        "\n",
        "```\n",
        "Компьютер: Ножницы\n",
        "Игрок: Камень\n",
        "Победа: Игрок\n",
        "```"
      ],
      "metadata": {
        "id": "jnKWeYleI0j6"
      }
    },
    {
      "cell_type": "code",
      "source": [
        "import random\n",
        "words=['камень', 'ножницы', 'бумага']\n",
        "comw=0\n",
        "plaw=0\n",
        "\n",
        "while comw<3 and plaw<3:\n",
        "  pla=input('Ввод:')\n",
        "  com=random.choice(words)\n",
        "\n",
        "  print('Компьютер:', com)\n",
        "  print('Игрок:', pla)\n",
        "\n",
        "  if (com=='камень' and pla=='бумага') or (com=='ножницы' and pla=='камень') or (com=='бумага' and pla=='ножницы'):\n",
        "    print('Побда: игрок')\n",
        "    print('')\n",
        "    plaw+=1\n",
        "  elif com==pla:\n",
        "    print('Ничья')\n",
        "    print('')\n",
        "  else:\n",
        "    print('Победа: компьютер')\n",
        "    print('')\n",
        "    comw+=1\n",
        "\n",
        "if comw>plaw:\n",
        "  print(\"Победа: компьютер\")\n",
        "else:\n",
        "  print('Победа: игрок')"
      ],
      "metadata": {
        "id": "ooIPCRe_JHkX",
        "colab": {
          "base_uri": "https://localhost:8080/"
        },
        "outputId": "7296be6b-46a5-4d5a-9733-34bae2eef62d"
      },
      "execution_count": null,
      "outputs": [
        {
          "output_type": "stream",
          "name": "stdout",
          "text": [
            "Ввод:камень\n",
            "Компьютер: ножницы\n",
            "Игрок: камень\n",
            "Побда: игрок\n",
            "\n",
            "Ввод:камень\n",
            "Компьютер: ножницы\n",
            "Игрок: камень\n",
            "Побда: игрок\n",
            "\n",
            "Ввод:камень\n",
            "Компьютер: камень\n",
            "Игрок: камень\n",
            "Ничья\n",
            "\n",
            "Ввод:камень\n",
            "Компьютер: камень\n",
            "Игрок: камень\n",
            "Ничья\n",
            "\n",
            "Ввод:камень\n",
            "Компьютер: камень\n",
            "Игрок: камень\n",
            "Ничья\n",
            "\n",
            "Ввод:камень\n",
            "Компьютер: ножницы\n",
            "Игрок: камень\n",
            "Побда: игрок\n",
            "\n",
            "Победа: игрок\n"
          ]
        }
      ]
    },
    {
      "cell_type": "markdown",
      "source": [
        "# **Задача 5.**"
      ],
      "metadata": {
        "id": "Hg4FJNFbLHQO"
      }
    },
    {
      "cell_type": "markdown",
      "source": [
        "Создайте игру \"Палач\" или \"Виселица\", в которой пользователь должен угадать слово, предлагая буквы. Программа должна выбрать случайное слово, а затем разрешить пользователю угадывать буквы. После каждого угадывания программа должна сообщать пользователю, есть ли в слове буква или нет.\n",
        "\n",
        "**Этап 1**\n",
        "Создать саму игру (игра должна иметь привлекательный интерфейс, соотвесвующий классической висилице)\n",
        "\n",
        "**Этап 2:**\n",
        "Ввести подсчет количества очков и ограничения на попытки\n",
        "\n",
        "**Этап 3:** Добавить возможность сразу угадать слово"
      ],
      "metadata": {
        "id": "OHqj3HJuLJgY"
      }
    },
    {
      "cell_type": "code",
      "source": [
        "import random\n",
        "spisok_slov=['мышка', 'яблоко', 'мама', 'праздник']\n",
        "word=random.choice(spisok_slov)\n",
        "count=0\n",
        "Try=5\n",
        "dl=len(word)\n",
        "print('Бот загадал слово, введите букву, которая, как вы думаете, есть в слове, или напишите \"Слово\", чтобы посмотреть слово:')\n",
        "\n",
        "while Try>0 and dl>0:\n",
        "  letter=input()\n",
        "  if str(letter)==str(word):\n",
        "    print('Всё верно!')\n",
        "    count=len(word)\n",
        "    dl-=dl\n",
        "    break\n",
        "  elif letter in word:\n",
        "    count+=word.count(letter)\n",
        "    print('Количество букв в слове:', word.count(letter))\n",
        "    print('Очки:', count, 'Попытки:', Try)\n",
        "    dl-=1\n",
        "  elif letter=='Слово' or letter=='слово':\n",
        "    print('\\033[1m'+word+'\\033[0m')\n",
        "    break\n",
        "  else:\n",
        "    Try-=1\n",
        "    print('В слове нет таких букв')\n",
        "    print('Очки:', count, 'Попытки:', Try)\n",
        "\n",
        "if Try<=0:\n",
        "  print('')\n",
        "  print('Вы проиграли')\n",
        "  print('Ваше слово:', word)\n",
        "  print('Очки:', count)\n",
        "elif count==0:\n",
        "  print('')\n",
        "  print('Вы проиграли')\n",
        "  print('Очки:', count)\n",
        "else:\n",
        "  print('')\n",
        "  print('Вы выиграли!')\n",
        "  print('Ваше слово:', word)\n",
        "  print('Очки:', count)\n"
      ],
      "metadata": {
        "id": "0N2zCYwVLiIw",
        "colab": {
          "base_uri": "https://localhost:8080/"
        },
        "outputId": "cd728ba6-c499-495c-9b54-f752bf556e47"
      },
      "execution_count": null,
      "outputs": [
        {
          "output_type": "stream",
          "name": "stdout",
          "text": [
            "Бот загадал слово, введите букву, которая, как вы думаете, есть в слове, или напишите \"Слово\", чтобы посмотреть слово:\n",
            "а\n",
            "В слове нет таких букв\n",
            "Очки: 0 Попытки: 4\n",
            "к\n",
            "Количество букв в слове: 1\n",
            "Очки: 1 Попытки: 4\n",
            "о\n",
            "Количество букв в слове: 2\n",
            "Очки: 3 Попытки: 4\n",
            "л\n",
            "Количество букв в слове: 1\n",
            "Очки: 4 Попытки: 4\n",
            "я\n",
            "Количество букв в слове: 1\n",
            "Очки: 5 Попытки: 4\n",
            "яблоко\n",
            "Всё верно!\n",
            "\n",
            "Вы выиграли!\n",
            "Ваше слово: яблоко\n",
            "Очки: 6\n"
          ]
        }
      ]
    },
    {
      "cell_type": "markdown",
      "source": [
        "# **Дополнительно: Задача 6 (для тех, кто не сделал в прошлый раз)**\n"
      ],
      "metadata": {
        "id": "w0x3QFGzKtDD"
      }
    },
    {
      "cell_type": "markdown",
      "source": [
        "\n",
        "**Цифра на определенном месте:**\n",
        "\n",
        "Последовательно записан натуральный ряд чисел.\n",
        "\n",
        "Какая цифра стоит в N позиции\n",
        "\n",
        "\n",
        "Вввод:\n",
        "\n",
        "```\n",
        "Введите номер позиции: 1234567890\n",
        "```\n",
        "\n",
        "Вывод:\n",
        "\n",
        "```\n",
        "8\n",
        "```"
      ],
      "metadata": {
        "id": "QqZArcpHJxVj"
      }
    },
    {
      "cell_type": "code",
      "source": [],
      "metadata": {
        "id": "LwjYwBGcKiJ9"
      },
      "execution_count": null,
      "outputs": []
    }
  ]
}